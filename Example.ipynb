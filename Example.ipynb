{
 "cells": [
  {
   "cell_type": "markdown",
   "metadata": {},
   "source": [
    "# Basic Import"
   ]
  },
  {
   "cell_type": "code",
   "execution_count": 1,
   "metadata": {},
   "outputs": [],
   "source": [
    "import numpy as np\n",
    "import meshio\n",
    "import os\n",
    "#import tensorflow as tf"
   ]
  },
  {
   "cell_type": "code",
   "execution_count": 2,
   "metadata": {},
   "outputs": [],
   "source": [
    "import pyvista as pv"
   ]
  },
  {
   "cell_type": "markdown",
   "metadata": {},
   "source": [
    "# Example of a simple mesh"
   ]
  },
  {
   "cell_type": "code",
   "execution_count": 3,
   "metadata": {},
   "outputs": [],
   "source": [
    "mesh_path = 'shapes/shape_1_1_0.vtu'"
   ]
  },
  {
   "cell_type": "markdown",
   "metadata": {},
   "source": [
    "### We can check the mesh with pyvista or paraview. Here we chose pyvista to stay in a notebook."
   ]
  },
  {
   "cell_type": "code",
   "execution_count": 4,
   "metadata": {},
   "outputs": [],
   "source": [
    "mesh_pv = pv.read(mesh_path)"
   ]
  },
  {
   "cell_type": "code",
   "execution_count": null,
   "metadata": {},
   "outputs": [],
   "source": [
    "mesh_pv.plot(show_scalar_bar=True, show_axes=True, notebook = True,show_edges=True)"
   ]
  },
  {
   "cell_type": "markdown",
   "metadata": {},
   "source": [
    "# Gradient"
   ]
  },
  {
   "cell_type": "markdown",
   "metadata": {},
   "source": [
    "Let's compute the gradient of this field on this unstructured mesh. We first need to compute (and store to reuse them later) gradient matrix."
   ]
  },
  {
   "cell_type": "code",
   "execution_count": null,
   "metadata": {},
   "outputs": [],
   "source": [
    "mesh = meshio.read(mesh_path,\"vtu\")"
   ]
  },
  {
   "cell_type": "code",
   "execution_count": null,
   "metadata": {
    "scrolled": true
   },
   "outputs": [],
   "source": [
    "from meshgradient.matrix import build_CON_matrix, build_PCE_matrix, build_AGS_matrix"
   ]
  },
  {
   "cell_type": "code",
   "execution_count": null,
   "metadata": {},
   "outputs": [],
   "source": [
    "%time test = build_CON_matrix(mesh)\n",
    "print()\n",
    "print('-'*10)\n",
    "print()\n",
    "print(\"Gradient Matrix as a Tensorflow Sparse Tensor: \")\n",
    "print()\n",
    "print(test)\n",
    "print()\n",
    "print('-'*10)\n",
    "print()"
   ]
  },
  {
   "cell_type": "markdown",
   "metadata": {},
   "source": [
    "Note that while we used these matrix to perform machine learning training within Tensorflow, you can replace these tensorflow Sparse tensors with any other sparse matrix of your choice.\n",
    "\n",
    "Let's build and save our 3 gradient matrix: "
   ]
  },
  {
   "cell_type": "code",
   "execution_count": null,
   "metadata": {},
   "outputs": [],
   "source": [
    "import pickle\n",
    "def build_and_save_gradient_matrix(mesh,gradient_folder,gradient_filename):\n",
    "  tf_gradient_matrix = build_AGS_matrix(mesh)\n",
    "  with open(os.path.join(gradient_folder,'AGS_' + gradient_filename), 'wb') as handle:\n",
    "    pickle.dump(tf_gradient_matrix, handle, protocol=pickle.HIGHEST_PROTOCOL)\n",
    "\n",
    "  tf_gradient_matrix = build_PCE_matrix(mesh)\n",
    "  with open(os.path.join(gradient_folder,'PCE_' + gradient_filename), 'wb') as handle:\n",
    "    pickle.dump(tf_gradient_matrix, handle, protocol=pickle.HIGHEST_PROTOCOL)\n",
    "\n",
    "  tf_gradient_matrix = build_CON_matrix(mesh)\n",
    "  with open(os.path.join(gradient_folder,'CON_' + gradient_filename), 'wb') as handle:\n",
    "    pickle.dump(tf_gradient_matrix, handle, protocol=pickle.HIGHEST_PROTOCOL)"
   ]
  },
  {
   "cell_type": "code",
   "execution_count": null,
   "metadata": {},
   "outputs": [],
   "source": [
    "build_and_save_gradient_matrix(mesh, 'shapes','example_gradient')"
   ]
  },
  {
   "cell_type": "markdown",
   "metadata": {},
   "source": [
    "Let's use these matrix to compute our gradients. First we load the 3 tensor and then we use our built in functions to compute the gradient."
   ]
  },
  {
   "cell_type": "code",
   "execution_count": null,
   "metadata": {},
   "outputs": [],
   "source": [
    "def load_gradient_matrix(gradient_folder,gradient_filename):\n",
    "  with open(os.path.join(gradient_folder,'AGS_' + gradient_filename), 'rb') as handle:\n",
    "    tf_AGS_matrix = pickle.load(handle)\n",
    "\n",
    "  with open(os.path.join(gradient_folder,'PCE_' + gradient_filename), 'rb') as handle:\n",
    "    tf_PCE_matrix = pickle.load(handle)\n",
    "\n",
    "  with open(os.path.join(gradient_folder,'CON_' + gradient_filename), 'rb') as handle:\n",
    "    tf_CON_matrix = pickle.load(handle)\n",
    "  return tf_AGS_matrix, tf_PCE_matrix, tf_CON_matrix"
   ]
  },
  {
   "cell_type": "code",
   "execution_count": null,
   "metadata": {},
   "outputs": [],
   "source": [
    "gradient_matrix = load_gradient_matrix('shapes','example_gradient')"
   ]
  },
  {
   "cell_type": "markdown",
   "metadata": {},
   "source": [
    "We will use 4 boundaries for the 4 sides of our cavity, and compute the gradient of the field \"Erreur\": "
   ]
  },
  {
   "cell_type": "code",
   "execution_count": null,
   "metadata": {},
   "outputs": [],
   "source": [
    "b1,b2,b3,b4 = mesh.point_data['AppartientEntree1'],mesh.point_data['AppartientEntree2'],mesh.point_data['AppartientEntree3'],mesh.point_data['AppartientEntree4']"
   ]
  },
  {
   "cell_type": "code",
   "execution_count": null,
   "metadata": {},
   "outputs": [],
   "source": [
    "erreur_field = mesh.point_data['Erreur']"
   ]
  },
  {
   "cell_type": "markdown",
   "metadata": {},
   "source": [
    "Let's import one of our function: "
   ]
  },
  {
   "cell_type": "code",
   "execution_count": null,
   "metadata": {},
   "outputs": [],
   "source": [
    "from meshgradient.gradient_fn import compute_gradient_per_points"
   ]
  },
  {
   "cell_type": "code",
   "execution_count": null,
   "metadata": {},
   "outputs": [],
   "source": [
    "gradient_erreur = compute_gradient_per_points(gradient_matrix,erreur_field,b1,b2,b3,b4)"
   ]
  },
  {
   "cell_type": "code",
   "execution_count": null,
   "metadata": {},
   "outputs": [],
   "source": [
    "gradient_erreur"
   ]
  },
  {
   "cell_type": "markdown",
   "metadata": {},
   "source": [
    "Let's add this field to our mesh, and display it (or compare it in paraview with the built in gradient from paraview)."
   ]
  },
  {
   "cell_type": "code",
   "execution_count": null,
   "metadata": {},
   "outputs": [],
   "source": [
    "mesh.point_data['Erreur'] = gradient_erreur.numpy()\n",
    "meshio.write('shapes/shape_with_gradient.vtu',mesh)"
   ]
  },
  {
   "cell_type": "code",
   "execution_count": null,
   "metadata": {},
   "outputs": [],
   "source": [
    "mesh_pv = pv.read('shapes/shape_with_gradient.vtu')"
   ]
  },
  {
   "cell_type": "code",
   "execution_count": null,
   "metadata": {},
   "outputs": [],
   "source": [
    "mesh_pv.plot(show_axes=True, notebook = True,show_edges=False)"
   ]
  },
  {
   "cell_type": "code",
   "execution_count": null,
   "metadata": {},
   "outputs": [],
   "source": []
  }
 ],
 "metadata": {
  "interpreter": {
   "hash": "c01ffea5a6739cd260f8965b62293dfa618e132bc7ec82a1196aa7580370777d"
  },
  "kernelspec": {
   "display_name": "Python 3 (ipykernel)",
   "language": "python",
   "name": "python3"
  },
  "language_info": {
   "codemirror_mode": {
    "name": "ipython",
    "version": 3
   },
   "file_extension": ".py",
   "mimetype": "text/x-python",
   "name": "python",
   "nbconvert_exporter": "python",
   "pygments_lexer": "ipython3",
   "version": "3.9.7"
  }
 },
 "nbformat": 4,
 "nbformat_minor": 4
}
